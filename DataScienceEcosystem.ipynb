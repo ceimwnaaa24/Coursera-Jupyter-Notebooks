{
 "cells": [
  {
   "cell_type": "markdown",
   "id": "c462e1ba-39e1-4e41-b666-6230a75d575f",
   "metadata": {},
   "source": [
    "## Author\n",
    "Sophia Novak"
   ]
  },
  {
   "cell_type": "markdown",
   "id": "4543f44b-f034-415c-9a5f-822b369826b9",
   "metadata": {},
   "source": [
    "# Data Science Ecosystem"
   ]
  },
  {
   "cell_type": "markdown",
   "id": "90b64088-61df-4bc7-92df-8757ab390b3a",
   "metadata": {},
   "source": [
    "In this notebook, Data Science Tools and Ecosystem are summarized."
   ]
  },
  {
   "cell_type": "markdown",
   "id": "8e1c5e51-48ff-49cb-a079-3b2b332763cc",
   "metadata": {},
   "source": [
    "**Objectives:**\n",
    "* Pandas\n",
    "* Plotly\n",
    "* TensorFlow\n",
    "* Keras\n",
    "* Seaborn"
   ]
  },
  {
   "cell_type": "markdown",
   "id": "82b8304b-698a-427a-9014-4fd6224e0e5d",
   "metadata": {},
   "source": [
    "Some of the popular languages that Data Scientists use are:\n",
    "1. Python\n",
    "2. R\n",
    "3. SQL"
   ]
  },
  {
   "cell_type": "markdown",
   "id": "ec27081b-3ac1-4c19-a522-3b2641d451ab",
   "metadata": {},
   "source": [
    "Some of the commonly used libraries used by Data Scientists include:\n",
    "1. Pandas\n",
    "2. Plotly\n",
    "3. TensorFlow\n",
    "4. Keras\n",
    "5. Seaborn"
   ]
  },
  {
   "cell_type": "markdown",
   "id": "99d79fd6-cc76-4951-9339-d8f8ca167856",
   "metadata": {},
   "source": [
    "| Data Science Tools|\n",
    "|-------------------|\n",
    "| Jupyter Notebook  |\n",
    "| R Studio          |\n",
    "| Spyder            |"
   ]
  },
  {
   "cell_type": "markdown",
   "id": "30519e19-9563-4607-9de3-266f93375773",
   "metadata": {},
   "source": [
    "### Below are a few examples of evaluating arithmetic expressions in Python"
   ]
  },
  {
   "cell_type": "code",
   "execution_count": 30,
   "id": "d82e5d32-4aba-48be-af2c-7a676dc8e157",
   "metadata": {},
   "outputs": [
    {
     "data": {
      "text/plain": [
       "17"
      ]
     },
     "execution_count": 30,
     "metadata": {},
     "output_type": "execute_result"
    }
   ],
   "source": [
    "#This a simple arithmetic expression to multiply then add integers\n",
    "(3*4)+5"
   ]
  },
  {
   "cell_type": "code",
   "execution_count": 32,
   "id": "b39de9e4-1b06-4335-88ca-3e3a9a213210",
   "metadata": {},
   "outputs": [
    {
     "data": {
      "text/plain": [
       "3.3333333333333335"
      ]
     },
     "execution_count": 32,
     "metadata": {},
     "output_type": "execute_result"
    }
   ],
   "source": [
    "#This will convert 200 minutes to hours by diving by 60\n",
    "200/60"
   ]
  },
  {
   "cell_type": "code",
   "execution_count": null,
   "id": "3ecd2a9c-90e3-4c54-b7ae-622e4009536f",
   "metadata": {},
   "outputs": [],
   "source": []
  }
 ],
 "metadata": {
  "kernelspec": {
   "display_name": "anaconda-ai-2024.04-py310",
   "language": "python",
   "name": "conda-env-anaconda-ai-2024.04-py310-py"
  },
  "language_info": {
   "codemirror_mode": {
    "name": "ipython",
    "version": 3
   },
   "file_extension": ".py",
   "mimetype": "text/x-python",
   "name": "python",
   "nbconvert_exporter": "python",
   "pygments_lexer": "ipython3",
   "version": "3.10.13"
  }
 },
 "nbformat": 4,
 "nbformat_minor": 5
}
